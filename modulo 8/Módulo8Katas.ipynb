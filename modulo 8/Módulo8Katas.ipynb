{
 "cells": [
  {
   "cell_type": "markdown",
   "metadata": {},
   "source": [
    "# Ejercicio 1 - creacion de diccionarios de python"
   ]
  },
  {
   "cell_type": "code",
   "execution_count": 18,
   "metadata": {},
   "outputs": [],
   "source": [
    "#se crea el diccionario llamado planet \n",
    "planet = {\n",
    "    'name' : 'earth',\n",
    "    'moons' : 1\n",
    "}"
   ]
  },
  {
   "cell_type": "code",
   "execution_count": 19,
   "metadata": {},
   "outputs": [
    {
     "name": "stdout",
     "output_type": "stream",
     "text": [
      "earth has 1 moons\n"
     ]
    }
   ],
   "source": [
    "#se imprimie el nombre del planeta y su numero de lunas\n",
    "\n",
    "print(f'{planet[\"name\"]} has {planet[\"moons\"]} moons')"
   ]
  },
  {
   "cell_type": "code",
   "execution_count": 20,
   "metadata": {},
   "outputs": [],
   "source": [
    "# agregamos mas datos de el planeta\n",
    "planet['data_planet (km)'] = {\n",
    "    'circumference': 40000\n",
    "    \n",
    "}"
   ]
  },
  {
   "cell_type": "code",
   "execution_count": 23,
   "metadata": {},
   "outputs": [
    {
     "name": "stdout",
     "output_type": "stream",
     "text": [
      "earth has a circumference of 40000 Km and 1 moon \n"
     ]
    }
   ],
   "source": [
    "#imprimir nombre del planeta mas datos\n",
    "print(f'{planet[\"name\"]} has a circumference of {planet[\"data_planet (km)\"][\"circumference\"]} Km and {planet[\"moons\"]} moon ')"
   ]
  },
  {
   "cell_type": "markdown",
   "metadata": {},
   "source": [
    "# Ejercicio numero 2 (programacion dinamica con diccionarios)"
   ]
  },
  {
   "cell_type": "code",
   "execution_count": 24,
   "metadata": {},
   "outputs": [],
   "source": [
    "#Añadiendo diccionario de planetas y lunas de la kata\n",
    "\n",
    "planet_moons = {\n",
    "    'mercury': 0,\n",
    "    'venus': 0,\n",
    "    'earth': 1,\n",
    "    'mars': 2,\n",
    "    'jupiter': 79,\n",
    "    'saturn': 82,\n",
    "    'uranus': 27,\n",
    "    'neptune': 14,\n",
    "    'pluto': 5,\n",
    "    'haumea': 2,\n",
    "    'makemake': 1,\n",
    "    'eris': 1\n",
    "}"
   ]
  },
  {
   "cell_type": "code",
   "execution_count": 25,
   "metadata": {},
   "outputs": [],
   "source": [
    "#crear variables para almacenar  los datos a utilizar\n",
    "#se guarda el total de las lunas\n",
    "moons = planet_moons.values()\n",
    "\n",
    "#se guarda el total de planetas\n",
    "#keys guarda las claves de el diccionario para luego contarlos\n",
    "#con len regresa el numero de items en el condenedor\n",
    "planets = len(planet_moons.keys())"
   ]
  },
  {
   "cell_type": "code",
   "execution_count": 33,
   "metadata": {},
   "outputs": [
    {
     "name": "stdout",
     "output_type": "stream",
     "text": [
      "el promedio de lunas en un planeta es de 17.833333333333332\n"
     ]
    }
   ],
   "source": [
    "#calcular el total de las lunas llamdolos y las guarda de nuevo en variable llamada\n",
    "#total_moons\n",
    "\n",
    "total_moons=0\n",
    "for moon in moons:\n",
    "    total_moons = total_moons + moon\n",
    "\n",
    "#para calcular el promedio\n",
    "promedio = total_moons / planets\n",
    "\n",
    "#imprimimos el resultado osea el promedio\n",
    "\n",
    "print(f\"el promedio de lunas en un planeta es de {promedio}\")"
   ]
  }
 ],
 "metadata": {
  "interpreter": {
   "hash": "99dbbde15cd2faaab2d13b83d8cf137e504289c4a5e2b4cd42622d1325b401a9"
  },
  "kernelspec": {
   "display_name": "Python 3.7.3 64-bit",
   "language": "python",
   "name": "python3"
  },
  "language_info": {
   "codemirror_mode": {
    "name": "ipython",
    "version": 3
   },
   "file_extension": ".py",
   "mimetype": "text/x-python",
   "name": "python",
   "nbconvert_exporter": "python",
   "pygments_lexer": "ipython3",
   "version": "3.7.3"
  },
  "orig_nbformat": 4
 },
 "nbformat": 4,
 "nbformat_minor": 2
}
