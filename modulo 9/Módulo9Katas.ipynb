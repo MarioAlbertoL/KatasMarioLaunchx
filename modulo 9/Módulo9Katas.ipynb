{
 "cells": [
  {
   "cell_type": "markdown",
   "metadata": {},
   "source": [
    "# ejercicio 1 - argumentos en funciones\n",
    "### en este ejercicio se me complico en cierta medida encontrar una solucion por mi mismo por lo que intente explicar mi entendimiento al problema planteado segun las soluciones para dar a enternder que si comprendo la estructura del codigo, prometo esforzarme arduamente en las siguientes semanas, en el caso de ser aceptado, muchas gracias"
   ]
  },
  {
   "cell_type": "code",
   "execution_count": 1,
   "metadata": {},
   "outputs": [],
   "source": [
    "# funciona para leer 3 tanques de combustible y mostrar el promedio\n",
    "def generate_report(main_tank, external_tank, hydrogen_tank): #se leen los valores de los tanques para poder proceder a las operaciones\n",
    "    total_average = (main_tank + external_tank + hydrogen_tank) / 3 #se suman el valor de los 3 tanques  y se divide entre 3 para sacar su promedio\n",
    "    #acontinuacion de procede a generear el reporte tomando y mostrando los datos de las operaciones anteriores\n",
    "    return f\"\"\"Fuel Report: \n",
    "    Total Average: {total_average}% \n",
    "    Main tank: {main_tank}%\n",
    "    External tank: {external_tank}%\n",
    "    Hydrogen tank: {hydrogen_tank}% \n",
    "    \"\"\""
   ]
  },
  {
   "cell_type": "code",
   "execution_count": 2,
   "metadata": {},
   "outputs": [
    {
     "name": "stdout",
     "output_type": "stream",
     "text": [
      "Fuel Report:\n",
      "    Total Average: 78.33333333333333%\n",
      "    Main tank: 80%\n",
      "    External tank: 70%\n",
      "    Hydrogen tank: 85% \n",
      "    \n"
     ]
    }
   ],
   "source": [
    "print(generate_report(80, 70, 85)) #por ultimo el reporte generado muestra el siguiente resultado"
   ]
  },
  {
   "cell_type": "code",
   "execution_count": 3,
   "metadata": {},
   "outputs": [
    {
     "data": {
      "text/plain": [
       "82.0"
      ]
     },
     "execution_count": 3,
     "metadata": {},
     "output_type": "execute_result"
    }
   ],
   "source": [
    "# Función promedio \n",
    "def average(values):\n",
    "    total = sum(values)\n",
    "    number_of_items = len(values)\n",
    "    return total / number_of_items\n",
    "\n",
    "# #datos para probar la funcion promedio\n",
    "average([80, 85, 81]) \n"
   ]
  },
  {
   "cell_type": "code",
   "execution_count": 7,
   "metadata": {},
   "outputs": [
    {
     "name": "stdout",
     "output_type": "stream",
     "text": [
      "Fuel Report:\n",
      "    Total Average: 85.66666666666667% \n",
      "    Main tank: 80%\n",
      "    External tank: 82%\n",
      "    Hydrogen tank: 95% \n",
      "    \n"
     ]
    }
   ],
   "source": [
    "# Actualiza la función utilizando la nueva funcion promedio \n",
    "def generate_report(main_tank, external_tank, hydrogen_tank):\n",
    "    return f\"\"\"Fuel Report:\n",
    "    Total Average: {average([main_tank, external_tank, hydrogen_tank])}% \n",
    "    Main tank: {main_tank}%\n",
    "    External tank: {external_tank}%\n",
    "    Hydrogen tank: {hydrogen_tank}% \n",
    "    \"\"\"\n",
    "\n",
    "# actualiza la funciona añadiendo nuevos valores\n",
    "print(generate_report(80, 82, 95))"
   ]
  },
  {
   "cell_type": "markdown",
   "metadata": {},
   "source": [
    "# Ejercicio numero 2 - trabajar con argumentos de palabras claves"
   ]
  },
  {
   "cell_type": "code",
   "execution_count": 8,
   "metadata": {},
   "outputs": [
    {
     "name": "stdout",
     "output_type": "stream",
     "text": [
      "\n",
      "    Mission to Moon\n",
      "    Total travel time: 65 minutes\n",
      "    Total fuel left: 500000 gallons\n",
      "    \n"
     ]
    }
   ],
   "source": [
    "def mission_report(pre_launch_time, flight_time, destination, external_tank, main_tank):\n",
    "    return f\"\"\"\n",
    "    Mission to {destination}\n",
    "    Total travel time: {pre_launch_time + flight_time} minutes\n",
    "    Total fuel left: {external_tank + main_tank} gallons\n",
    "    \"\"\"\n",
    "\n",
    "print(mission_report(14, 51, \"Moon\", 200000, 300000))"
   ]
  }
 ],
 "metadata": {
  "interpreter": {
   "hash": "99dbbde15cd2faaab2d13b83d8cf137e504289c4a5e2b4cd42622d1325b401a9"
  },
  "kernelspec": {
   "display_name": "Python 3.7.3 64-bit",
   "language": "python",
   "name": "python3"
  },
  "language_info": {
   "codemirror_mode": {
    "name": "ipython",
    "version": 3
   },
   "file_extension": ".py",
   "mimetype": "text/x-python",
   "name": "python",
   "nbconvert_exporter": "python",
   "pygments_lexer": "ipython3",
   "version": "3.7.3"
  },
  "orig_nbformat": 4
 },
 "nbformat": 4,
 "nbformat_minor": 2
}
